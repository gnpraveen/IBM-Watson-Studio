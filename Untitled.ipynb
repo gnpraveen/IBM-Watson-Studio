{
 "cells": [
  {
   "cell_type": "markdown",
   "id": "0b5d6d6f",
   "metadata": {},
   "source": [
    "# My Jupyter Notebook on IBM Watson Studio\n"
   ]
  },
  {
   "cell_type": "markdown",
   "id": "807fe029",
   "metadata": {},
   "source": [
    "__Naga Praveen Kumar G__\n",
    "Management Consultant "
   ]
  },
  {
   "cell_type": "markdown",
   "id": "5debde2f",
   "metadata": {},
   "source": [
    "_I am interested in data science as its the future_"
   ]
  },
  {
   "cell_type": "markdown",
   "id": "6640b76e",
   "metadata": {},
   "source": [
    "### Testing the Guass Formula"
   ]
  },
  {
   "cell_type": "code",
   "execution_count": 4,
   "id": "6dac42a2",
   "metadata": {},
   "outputs": [
    {
     "data": {
      "text/plain": [
       "True"
      ]
     },
     "execution_count": 4,
     "metadata": {},
     "output_type": "execute_result"
    }
   ],
   "source": [
    "def gauss(n):\n",
    "    return (n*(n+1))/2\n",
    "gauss(100)==sum(range(101))"
   ]
  },
  {
   "cell_type": "markdown",
   "id": "f8179e67",
   "metadata": {},
   "source": [
    "- Point One\n",
    "- Point Two\n",
    "\n",
    "> Happy to learn something \n",
    "\n",
    "<font\n",
    "      color=red> My First Jupyter Notebook </font>   \n",
    "      \n",
    "|Name|Age|\n",
    "|----|\n",
    "|Praveen|20|\n",
    "|Kumar|25|\n",
    "|Naga|35|"
   ]
  },
  {
   "cell_type": "code",
   "execution_count": null,
   "id": "d4c92378",
   "metadata": {},
   "outputs": [],
   "source": []
  }
 ],
 "metadata": {
  "kernelspec": {
   "display_name": "Python 3 (ipykernel)",
   "language": "python",
   "name": "python3"
  },
  "language_info": {
   "codemirror_mode": {
    "name": "ipython",
    "version": 3
   },
   "file_extension": ".py",
   "mimetype": "text/x-python",
   "name": "python",
   "nbconvert_exporter": "python",
   "pygments_lexer": "ipython3",
   "version": "3.9.7"
  }
 },
 "nbformat": 4,
 "nbformat_minor": 5
}
